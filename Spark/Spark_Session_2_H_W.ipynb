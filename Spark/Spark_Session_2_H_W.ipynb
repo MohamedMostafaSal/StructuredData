{
  "nbformat": 4,
  "nbformat_minor": 0,
  "metadata": {
    "colab": {
      "name": "Spark Session_2_H_W.ipynb",
      "provenance": [],
      "collapsed_sections": [],
      "include_colab_link": true
    },
    "kernelspec": {
      "name": "python3",
      "display_name": "Python 3"
    },
    "language_info": {
      "name": "python"
    }
  },
  "cells": [
    {
      "cell_type": "markdown",
      "metadata": {
        "id": "view-in-github",
        "colab_type": "text"
      },
      "source": [
        "<a href=\"https://colab.research.google.com/github/MohamedMostafaSal/StructuredData/blob/main/Spark/Spark_Session_2_H_W.ipynb\" target=\"_parent\"><img src=\"https://colab.research.google.com/assets/colab-badge.svg\" alt=\"Open In Colab\"/></a>"
      ]
    },
    {
      "cell_type": "markdown",
      "metadata": {
        "id": "vIwZsU0haNkj"
      },
      "source": [
        "## Task 1 - SQL"
      ]
    },
    {
      "cell_type": "markdown",
      "metadata": {
        "id": "45wCuSvgajao"
      },
      "source": [
        "### Build SparkSession:"
      ]
    },
    {
      "cell_type": "code",
      "metadata": {
        "id": "JwcbnqiymCE3"
      },
      "source": [
        "!pwd\n",
        "! wget https://archive.apache.org/dist/spark/spark-3.0.1/spark-3.0.1-bin-hadoop3.2.tgz\n",
        "!tar -xvzf spark-3.0.1-bin-hadoop3.2.tgz\n",
        "!pip install findspark"
      ],
      "execution_count": null,
      "outputs": []
    },
    {
      "cell_type": "code",
      "source": [
        "import os\n",
        "import findspark\n",
        "\n",
        "os.environ[\"SPARK_HOME\"] = \"/content/spark-3.0.1-bin-hadoop3.2\"\n",
        "findspark.init()"
      ],
      "metadata": {
        "id": "q55wNb0ZGZa3"
      },
      "execution_count": 5,
      "outputs": []
    },
    {
      "cell_type": "code",
      "source": [
        "from pyspark.sql import SparkSession\n",
        "import pyspark.sql.functions as fn"
      ],
      "metadata": {
        "id": "6ZF_BLhaGa13"
      },
      "execution_count": 6,
      "outputs": []
    },
    {
      "cell_type": "code",
      "source": [
        "spark = SparkSession.builder.appName('hw2').getOrCreate()"
      ],
      "metadata": {
        "id": "62AUr8gdGheG"
      },
      "execution_count": 7,
      "outputs": []
    },
    {
      "cell_type": "code",
      "source": [
        "spark.conf.set(\"spark.sql.execution.arrow.pyspark.enabled\", \"true\")"
      ],
      "metadata": {
        "id": "AnZag6eWfCFh"
      },
      "execution_count": 8,
      "outputs": []
    },
    {
      "cell_type": "markdown",
      "metadata": {
        "id": "g8HITwTqnJcX"
      },
      "source": [
        "### Read the json file:"
      ]
    },
    {
      "cell_type": "code",
      "metadata": {
        "id": "93iqAB7tnMYQ"
      },
      "source": [
        "df = spark.read.json('/content/DataFrames_sample.json')"
      ],
      "execution_count": 9,
      "outputs": []
    },
    {
      "cell_type": "code",
      "source": [
        "df.show(5)"
      ],
      "metadata": {
        "id": "4Z-eROOnHmkq",
        "outputId": "22810333-b391-4ab8-d40a-5d82f706b6cb",
        "colab": {
          "base_uri": "https://localhost:8080/"
        }
      },
      "execution_count": 10,
      "outputs": [
        {
          "output_type": "stream",
          "name": "stdout",
          "text": [
            "+----+----+---------+---+-----------+----+----------+-----+------+----+\n",
            "|   D|   H|      HDD| Id|      Model| RAM|ScreenSize|    W|Weight|Year|\n",
            "+----+----+---------+---+-----------+----+----------+-----+------+----+\n",
            "|9.48|0.61|512GB SSD|  1|MacBook Pro|16GB|       15\"|13.75|  4.02|2015|\n",
            "|7.74|0.52|256GB SSD|  2|    MacBook| 8GB|       12\"|11.04|  2.03|2016|\n",
            "|8.94|0.68|128GB SSD|  3|MacBook Air| 8GB|     13.3\"| 12.8|  2.96|2016|\n",
            "| 8.0|20.3|  1TB SSD|  4|       iMac|64GB|       27\"| 25.6|  20.8|2017|\n",
            "+----+----+---------+---+-----------+----+----------+-----+------+----+\n",
            "\n"
          ]
        }
      ]
    },
    {
      "cell_type": "markdown",
      "metadata": {
        "id": "jNx0qMfunbKX"
      },
      "source": [
        "### Display the schema:\n"
      ]
    },
    {
      "cell_type": "code",
      "source": [
        "df.printSchema()"
      ],
      "metadata": {
        "id": "K9h5nJdpG-r8",
        "outputId": "744780c6-fcb4-424f-a17a-7728314fb969",
        "colab": {
          "base_uri": "https://localhost:8080/"
        }
      },
      "execution_count": 11,
      "outputs": [
        {
          "output_type": "stream",
          "name": "stdout",
          "text": [
            "root\n",
            " |-- D: double (nullable = true)\n",
            " |-- H: double (nullable = true)\n",
            " |-- HDD: string (nullable = true)\n",
            " |-- Id: long (nullable = true)\n",
            " |-- Model: string (nullable = true)\n",
            " |-- RAM: string (nullable = true)\n",
            " |-- ScreenSize: string (nullable = true)\n",
            " |-- W: double (nullable = true)\n",
            " |-- Weight: double (nullable = true)\n",
            " |-- Year: long (nullable = true)\n",
            "\n"
          ]
        }
      ]
    },
    {
      "cell_type": "markdown",
      "metadata": {
        "id": "Zaj0nHTcngEF"
      },
      "source": [
        "### Get all the data when \"Model\" equal \"MacBook Pro\":\n",
        "\n",
        "\n"
      ]
    },
    {
      "cell_type": "code",
      "metadata": {
        "id": "Vm9QPKBCnkuS",
        "outputId": "eef6004e-7958-48ae-b32d-a979a705bfb2",
        "colab": {
          "base_uri": "https://localhost:8080/"
        }
      },
      "source": [
        "df.select('*').where(df['Model']== \"MacBook Pro\").show()"
      ],
      "execution_count": 12,
      "outputs": [
        {
          "output_type": "stream",
          "name": "stdout",
          "text": [
            "+----+----+---------+---+-----------+----+----------+-----+------+----+\n",
            "|   D|   H|      HDD| Id|      Model| RAM|ScreenSize|    W|Weight|Year|\n",
            "+----+----+---------+---+-----------+----+----------+-----+------+----+\n",
            "|9.48|0.61|512GB SSD|  1|MacBook Pro|16GB|       15\"|13.75|  4.02|2015|\n",
            "+----+----+---------+---+-----------+----+----------+-----+------+----+\n",
            "\n"
          ]
        }
      ]
    },
    {
      "cell_type": "markdown",
      "metadata": {
        "id": "43oLte9LuGzA"
      },
      "source": [
        "### Create Table:"
      ]
    },
    {
      "cell_type": "code",
      "metadata": {
        "id": "nVFYFcjtdIGW"
      },
      "source": [
        "df.createOrReplaceTempView('dfTable')"
      ],
      "execution_count": 13,
      "outputs": []
    },
    {
      "cell_type": "markdown",
      "metadata": {
        "id": "dCLMmjRLdjbT"
      },
      "source": [
        "### Display \"RAM\"column and count \"RAM\" column:"
      ]
    },
    {
      "cell_type": "code",
      "metadata": {
        "id": "BxykutRjuF0X",
        "outputId": "7e5b455b-9b9e-4546-a902-34e17204e146",
        "colab": {
          "base_uri": "https://localhost:8080/"
        }
      },
      "source": [
        "spark.sql('select RAM, count(RAM) from dfTable group by RAM').show()"
      ],
      "execution_count": 14,
      "outputs": [
        {
          "output_type": "stream",
          "name": "stdout",
          "text": [
            "+----+----------+\n",
            "| RAM|count(RAM)|\n",
            "+----+----------+\n",
            "|64GB|         1|\n",
            "|16GB|         1|\n",
            "| 8GB|         2|\n",
            "+----+----------+\n",
            "\n"
          ]
        }
      ]
    },
    {
      "cell_type": "markdown",
      "metadata": {
        "id": "b5nlwq4t9gvK"
      },
      "source": [
        "### Get all columns when \"Year\" column equal \"2015\"  "
      ]
    },
    {
      "cell_type": "code",
      "metadata": {
        "id": "WXxjFxN19hJl",
        "outputId": "a8819375-812a-4d29-ddb9-7f6969f15022",
        "colab": {
          "base_uri": "https://localhost:8080/"
        }
      },
      "source": [
        "spark.sql('select * from dfTable where Year = 2015').show()"
      ],
      "execution_count": 15,
      "outputs": [
        {
          "output_type": "stream",
          "name": "stdout",
          "text": [
            "+----+----+---------+---+-----------+----+----------+-----+------+----+\n",
            "|   D|   H|      HDD| Id|      Model| RAM|ScreenSize|    W|Weight|Year|\n",
            "+----+----+---------+---+-----------+----+----------+-----+------+----+\n",
            "|9.48|0.61|512GB SSD|  1|MacBook Pro|16GB|       15\"|13.75|  4.02|2015|\n",
            "+----+----+---------+---+-----------+----+----------+-----+------+----+\n",
            "\n"
          ]
        }
      ]
    },
    {
      "cell_type": "markdown",
      "metadata": {
        "id": "JHjK2Kqfuv24"
      },
      "source": [
        "### Get all when \"Model\" start with \"M\":"
      ]
    },
    {
      "cell_type": "code",
      "metadata": {
        "id": "m30EkY_iu1Gs",
        "outputId": "5803a5d9-f14d-4bf3-d634-098e64fdc286",
        "colab": {
          "base_uri": "https://localhost:8080/"
        }
      },
      "source": [
        "spark.sql(\"SELECT * from dfTable where Model  like 'M%' \").show()"
      ],
      "execution_count": 16,
      "outputs": [
        {
          "output_type": "stream",
          "name": "stdout",
          "text": [
            "+----+----+---------+---+-----------+----+----------+-----+------+----+\n",
            "|   D|   H|      HDD| Id|      Model| RAM|ScreenSize|    W|Weight|Year|\n",
            "+----+----+---------+---+-----------+----+----------+-----+------+----+\n",
            "|9.48|0.61|512GB SSD|  1|MacBook Pro|16GB|       15\"|13.75|  4.02|2015|\n",
            "|7.74|0.52|256GB SSD|  2|    MacBook| 8GB|       12\"|11.04|  2.03|2016|\n",
            "|8.94|0.68|128GB SSD|  3|MacBook Air| 8GB|     13.3\"| 12.8|  2.96|2016|\n",
            "+----+----+---------+---+-----------+----+----------+-----+------+----+\n",
            "\n"
          ]
        }
      ]
    },
    {
      "cell_type": "markdown",
      "metadata": {
        "id": "Igw9iqJQ7TdH"
      },
      "source": [
        "### Get all data when \"Model\" column equal \"MacBook Pro\""
      ]
    },
    {
      "cell_type": "code",
      "metadata": {
        "id": "SRCGSB_W9cPc",
        "outputId": "0aa9f929-ebb6-45a0-eed7-8320ea988630",
        "colab": {
          "base_uri": "https://localhost:8080/"
        }
      },
      "source": [
        "spark.sql(\"SELECT * from dfTable where Model  like 'MacBook Pro' \").show()"
      ],
      "execution_count": 17,
      "outputs": [
        {
          "output_type": "stream",
          "name": "stdout",
          "text": [
            "+----+----+---------+---+-----------+----+----------+-----+------+----+\n",
            "|   D|   H|      HDD| Id|      Model| RAM|ScreenSize|    W|Weight|Year|\n",
            "+----+----+---------+---+-----------+----+----------+-----+------+----+\n",
            "|9.48|0.61|512GB SSD|  1|MacBook Pro|16GB|       15\"|13.75|  4.02|2015|\n",
            "+----+----+---------+---+-----------+----+----------+-----+------+----+\n",
            "\n"
          ]
        }
      ]
    },
    {
      "cell_type": "markdown",
      "metadata": {
        "id": "OZIlmJidw1Ep"
      },
      "source": [
        "### Get all data with Multiple Conditions when \"RAM\" column equal \"8GB\" and \"Model\" column is \"Macbook\"."
      ]
    },
    {
      "cell_type": "code",
      "metadata": {
        "id": "-5T7roxgnBBV",
        "outputId": "15d9eac0-7046-4c88-9767-bdceb7932418",
        "colab": {
          "base_uri": "https://localhost:8080/"
        }
      },
      "source": [
        "spark.sql(\"SELECT * from dfTable where Model='MacBook' and RAM='8GB'\").show()"
      ],
      "execution_count": 18,
      "outputs": [
        {
          "output_type": "stream",
          "name": "stdout",
          "text": [
            "+----+----+---------+---+-------+---+----------+-----+------+----+\n",
            "|   D|   H|      HDD| Id|  Model|RAM|ScreenSize|    W|Weight|Year|\n",
            "+----+----+---------+---+-------+---+----------+-----+------+----+\n",
            "|7.74|0.52|256GB SSD|  2|MacBook|8GB|       12\"|11.04|  2.03|2016|\n",
            "+----+----+---------+---+-------+---+----------+-----+------+----+\n",
            "\n"
          ]
        }
      ]
    },
    {
      "cell_type": "markdown",
      "metadata": {
        "id": "qk8YPAWQ8HxI"
      },
      "source": [
        "### Get all data with Multiple Conditions when \"D\" greater than or equal \"8\" and \"Model\" column is \"iMac\"."
      ]
    },
    {
      "cell_type": "code",
      "metadata": {
        "id": "XDHJSpQK9MuS",
        "outputId": "af0111e0-51c6-4ddb-b5d9-8da09b6cf237",
        "colab": {
          "base_uri": "https://localhost:8080/"
        }
      },
      "source": [
        "spark.sql(\"SELECT * from dfTable where Model='iMac' and D>=8\").show()"
      ],
      "execution_count": 19,
      "outputs": [
        {
          "output_type": "stream",
          "name": "stdout",
          "text": [
            "+---+----+-------+---+-----+----+----------+----+------+----+\n",
            "|  D|   H|    HDD| Id|Model| RAM|ScreenSize|   W|Weight|Year|\n",
            "+---+----+-------+---+-----+----+----------+----+------+----+\n",
            "|8.0|20.3|1TB SSD|  4| iMac|64GB|       27\"|25.6|  20.8|2017|\n",
            "+---+----+-------+---+-----+----+----------+----+------+----+\n",
            "\n"
          ]
        }
      ]
    },
    {
      "cell_type": "markdown",
      "metadata": {
        "id": "5d6364f6"
      },
      "source": [
        "## Task 2\n"
      ]
    },
    {
      "cell_type": "markdown",
      "metadata": {
        "id": "rlWhDvTPfZgu"
      },
      "source": [
        "### Read \"test1\" dataset:"
      ]
    },
    {
      "cell_type": "code",
      "metadata": {
        "id": "7964d064"
      },
      "source": [
        "dfT2 = spark.read.csv('test1.csv', inferSchema= True, header=True)"
      ],
      "execution_count": 20,
      "outputs": []
    },
    {
      "cell_type": "code",
      "source": [
        "dfT2.printSchema()"
      ],
      "metadata": {
        "id": "s0vjM3NJMSP2",
        "outputId": "5428a3ce-f2d0-4f31-8048-7f58ada522f0",
        "colab": {
          "base_uri": "https://localhost:8080/"
        }
      },
      "execution_count": 21,
      "outputs": [
        {
          "output_type": "stream",
          "name": "stdout",
          "text": [
            "root\n",
            " |-- Name: string (nullable = true)\n",
            " |-- age: integer (nullable = true)\n",
            " |-- Experience: integer (nullable = true)\n",
            " |-- Salary: integer (nullable = true)\n",
            "\n"
          ]
        }
      ]
    },
    {
      "cell_type": "markdown",
      "metadata": {
        "id": "EJKjDOKHfnCt"
      },
      "source": [
        "### Display Salary of the people less than or equal to 20000"
      ]
    },
    {
      "cell_type": "code",
      "metadata": {
        "id": "c21edffc",
        "outputId": "61861ce0-0f4a-4c2c-b2f8-bb102c9970cd",
        "colab": {
          "base_uri": "https://localhost:8080/"
        }
      },
      "source": [
        "dfT2.select('Salary').where(dfT2['Salary']<=20000).show()"
      ],
      "execution_count": 22,
      "outputs": [
        {
          "output_type": "stream",
          "name": "stdout",
          "text": [
            "+------+\n",
            "|Salary|\n",
            "+------+\n",
            "| 20000|\n",
            "| 20000|\n",
            "| 15000|\n",
            "| 18000|\n",
            "+------+\n",
            "\n"
          ]
        }
      ]
    },
    {
      "cell_type": "markdown",
      "metadata": {
        "id": "OvFWNFJjf0Pq"
      },
      "source": [
        "### Display Salary of the people less than or equal to 20000 and greater than or equal 15000"
      ]
    },
    {
      "cell_type": "code",
      "metadata": {
        "id": "26f76ee1",
        "outputId": "3a44d131-8d9e-4c64-c4b7-673c8dcf3225",
        "colab": {
          "base_uri": "https://localhost:8080/"
        }
      },
      "source": [
        "dfT2.createOrReplaceTempView('dfT2Table')\n",
        "spark.sql(\"select Salary from dfT2Table where Salary between 15000 and 20000\").show()\n"
      ],
      "execution_count": 23,
      "outputs": [
        {
          "output_type": "stream",
          "name": "stdout",
          "text": [
            "+------+\n",
            "|Salary|\n",
            "+------+\n",
            "| 20000|\n",
            "| 20000|\n",
            "| 15000|\n",
            "| 18000|\n",
            "+------+\n",
            "\n"
          ]
        }
      ]
    },
    {
      "cell_type": "markdown",
      "metadata": {
        "id": "9VAcIXkTgN9D"
      },
      "source": [
        "## Task 3 "
      ]
    },
    {
      "cell_type": "markdown",
      "metadata": {
        "id": "uOeqRO2KgW34"
      },
      "source": [
        "### Read \"test3\" dataset:"
      ]
    },
    {
      "cell_type": "code",
      "metadata": {
        "id": "4d3bd081"
      },
      "source": [
        "dfT3 = spark.read.csv('test3.csv', inferSchema= True, header=True)"
      ],
      "execution_count": 24,
      "outputs": []
    },
    {
      "cell_type": "code",
      "source": [
        ""
      ],
      "metadata": {
        "id": "X8eTdaCDNuL-"
      },
      "execution_count": 24,
      "outputs": []
    },
    {
      "cell_type": "markdown",
      "metadata": {
        "id": "ejyUT1rngdeR"
      },
      "source": [
        "### Display dataset"
      ]
    },
    {
      "cell_type": "code",
      "metadata": {
        "id": "7ed791ed",
        "outputId": "0ee22a0e-4cff-43a1-d67b-b8728f81bb8b",
        "colab": {
          "base_uri": "https://localhost:8080/"
        }
      },
      "source": [
        "dfT3.show()"
      ],
      "execution_count": 25,
      "outputs": [
        {
          "output_type": "stream",
          "name": "stdout",
          "text": [
            "+---------+------------+------+\n",
            "|     Name| Departments|salary|\n",
            "+---------+------------+------+\n",
            "|    Krish|Data Science| 10000|\n",
            "|    Krish|         IOT|  5000|\n",
            "|   Mahesh|    Big Data|  4000|\n",
            "|    Krish|    Big Data|  4000|\n",
            "|   Mahesh|Data Science|  3000|\n",
            "|Sudhanshu|Data Science| 20000|\n",
            "|Sudhanshu|         IOT| 10000|\n",
            "|Sudhanshu|    Big Data|  5000|\n",
            "|    Sunny|Data Science| 10000|\n",
            "|    Sunny|    Big Data|  2000|\n",
            "+---------+------------+------+\n",
            "\n"
          ]
        }
      ]
    },
    {
      "cell_type": "markdown",
      "metadata": {
        "id": "Xp42YtorghXJ"
      },
      "source": [
        "### Display schema"
      ]
    },
    {
      "cell_type": "code",
      "metadata": {
        "id": "d57d24ca",
        "outputId": "0c4422b0-a853-4297-f7bc-592dfb9678e4",
        "colab": {
          "base_uri": "https://localhost:8080/"
        }
      },
      "source": [
        "dfT3.printSchema()"
      ],
      "execution_count": 26,
      "outputs": [
        {
          "output_type": "stream",
          "name": "stdout",
          "text": [
            "root\n",
            " |-- Name: string (nullable = true)\n",
            " |-- Departments: string (nullable = true)\n",
            " |-- salary: integer (nullable = true)\n",
            "\n"
          ]
        }
      ]
    },
    {
      "cell_type": "markdown",
      "metadata": {
        "id": "PHxWeGCCgnww"
      },
      "source": [
        "### Group by \"Name\" column and using sum function on \"Name\" column"
      ]
    },
    {
      "cell_type": "code",
      "metadata": {
        "id": "f15f8197",
        "outputId": "4247146b-a36e-4c3b-eee3-5ab2c0901874",
        "colab": {
          "base_uri": "https://localhost:8080/"
        }
      },
      "source": [
        "dfT3.groupBy(dfT3['Name']).agg(fn.sum(dfT3.salary).alias('Sum')).show()"
      ],
      "execution_count": 27,
      "outputs": [
        {
          "output_type": "stream",
          "name": "stdout",
          "text": [
            "+---------+-----+\n",
            "|     Name|  Sum|\n",
            "+---------+-----+\n",
            "|Sudhanshu|35000|\n",
            "|    Sunny|12000|\n",
            "|    Krish|19000|\n",
            "|   Mahesh| 7000|\n",
            "+---------+-----+\n",
            "\n"
          ]
        }
      ]
    },
    {
      "cell_type": "markdown",
      "metadata": {
        "id": "gWgkaU3bhUOL"
      },
      "source": [
        "### Group by \"Name\" column and using avg function on \"Name\" column"
      ]
    },
    {
      "cell_type": "code",
      "metadata": {
        "id": "fc122ace",
        "outputId": "78032393-774a-404a-eea7-f0e5cf18963c",
        "colab": {
          "base_uri": "https://localhost:8080/"
        }
      },
      "source": [
        "dfT3.groupBy(dfT3['Name']).agg(fn.avg(dfT3.salary).alias('avgSalary')).show()"
      ],
      "execution_count": 28,
      "outputs": [
        {
          "output_type": "stream",
          "name": "stdout",
          "text": [
            "+---------+------------------+\n",
            "|     Name|         avgSalary|\n",
            "+---------+------------------+\n",
            "|Sudhanshu|11666.666666666666|\n",
            "|    Sunny|            6000.0|\n",
            "|    Krish| 6333.333333333333|\n",
            "|   Mahesh|            3500.0|\n",
            "+---------+------------------+\n",
            "\n"
          ]
        }
      ]
    },
    {
      "cell_type": "markdown",
      "metadata": {
        "id": "ARg_-WPKhfL5"
      },
      "source": [
        "### Group by \"Departments\" column and using sum function on \"Departments\" column"
      ]
    },
    {
      "cell_type": "code",
      "metadata": {
        "id": "151d2264",
        "outputId": "e19eb25f-0ba0-42a0-c9f8-dab715461dfa",
        "colab": {
          "base_uri": "https://localhost:8080/"
        }
      },
      "source": [
        "dfT3.groupBy(dfT3['Departments']).agg(fn.sum(dfT3.salary).alias('Sum')).show()"
      ],
      "execution_count": 29,
      "outputs": [
        {
          "output_type": "stream",
          "name": "stdout",
          "text": [
            "+------------+-----+\n",
            "| Departments|  Sum|\n",
            "+------------+-----+\n",
            "|         IOT|15000|\n",
            "|    Big Data|15000|\n",
            "|Data Science|43000|\n",
            "+------------+-----+\n",
            "\n"
          ]
        }
      ]
    },
    {
      "cell_type": "markdown",
      "metadata": {
        "id": "S7rdLSEXhn4W"
      },
      "source": [
        "### Group by \"Departments\" column and using mean function on \"Departments\" column:"
      ]
    },
    {
      "cell_type": "code",
      "metadata": {
        "id": "66fe5552",
        "outputId": "2861ddf9-14c2-4d54-d1f7-a417525fa211",
        "colab": {
          "base_uri": "https://localhost:8080/"
        }
      },
      "source": [
        "dfT3.groupBy(dfT3['Departments']).agg(fn.avg(dfT3.salary).alias('avgSalary')).show()"
      ],
      "execution_count": 30,
      "outputs": [
        {
          "output_type": "stream",
          "name": "stdout",
          "text": [
            "+------------+---------+\n",
            "| Departments|avgSalary|\n",
            "+------------+---------+\n",
            "|         IOT|   7500.0|\n",
            "|    Big Data|   3750.0|\n",
            "|Data Science|  10750.0|\n",
            "+------------+---------+\n",
            "\n"
          ]
        }
      ]
    },
    {
      "cell_type": "markdown",
      "metadata": {
        "id": "bndivgGjhsbq"
      },
      "source": [
        "Group by \"Departments\" column and using count function on \"Departments\" column:"
      ]
    },
    {
      "cell_type": "code",
      "metadata": {
        "id": "bc7bf192",
        "outputId": "2669ec73-98d1-4f90-91b1-e3f48ef136e9",
        "colab": {
          "base_uri": "https://localhost:8080/"
        }
      },
      "source": [
        "dfT3.groupBy(dfT3['Departments']).agg(fn.count(dfT3.Departments).alias('avgSalary')).show()"
      ],
      "execution_count": 31,
      "outputs": [
        {
          "output_type": "stream",
          "name": "stdout",
          "text": [
            "+------------+---------+\n",
            "| Departments|avgSalary|\n",
            "+------------+---------+\n",
            "|         IOT|        2|\n",
            "|    Big Data|        4|\n",
            "|Data Science|        4|\n",
            "+------------+---------+\n",
            "\n"
          ]
        }
      ]
    },
    {
      "cell_type": "markdown",
      "metadata": {
        "id": "dfPs99wnhwGu"
      },
      "source": [
        "### Apply agg to using sum function get the total of salaries"
      ]
    },
    {
      "cell_type": "code",
      "metadata": {
        "id": "37b26cbe",
        "outputId": "f35dddf1-4d7d-4a34-c882-9168f12db766",
        "colab": {
          "base_uri": "https://localhost:8080/"
        }
      },
      "source": [
        "dfT3.agg(fn.sum(dfT3.salary).alias('sum')).show()"
      ],
      "execution_count": 32,
      "outputs": [
        {
          "output_type": "stream",
          "name": "stdout",
          "text": [
            "+-----+\n",
            "|  sum|\n",
            "+-----+\n",
            "|73000|\n",
            "+-----+\n",
            "\n"
          ]
        }
      ]
    },
    {
      "cell_type": "markdown",
      "metadata": {
        "id": "MYD0wGPRi1FO"
      },
      "source": [
        "## Task 4"
      ]
    },
    {
      "cell_type": "markdown",
      "metadata": {
        "id": "lJLc1PY1i-Np"
      },
      "source": [
        "You've been flown to their headquarters in Ulsan, South Korea, to assist them in accurately estimating the number of crew members a ship will need.\n"
      ]
    },
    {
      "cell_type": "markdown",
      "metadata": {
        "id": "8PEoknoejL4r"
      },
      "source": [
        "They're currently building new ships for certain customers, and they'd like you to create a model and utilize it to estimate how many crew members the ships will require.\n"
      ]
    },
    {
      "cell_type": "markdown",
      "metadata": {
        "id": "70slYH-tjR81"
      },
      "source": [
        "Metadata:\n",
        "1. Measurements of ship size \n",
        "2. capacity \n",
        "3. crew \n",
        "4. age for 158 cruise ships."
      ]
    },
    {
      "cell_type": "markdown",
      "metadata": {
        "id": "5ZzrhGnHkRCU"
      },
      "source": [
        "It is saved in a csv file for you called \"ITI_data.csv\". our task is to develop a regression model that will assist in predicting the number of crew members required for future ships. The client also indicated that they have found that particular cruise lines will differ in acceptable crew counts, thus this is most likely an important factor to consider when conducting your investigation."
      ]
    },
    {
      "cell_type": "code",
      "source": [
        "import pyspark.ml.feature as ml\n",
        "from pyspark.ml import Pipeline\n",
        "from pyspark.ml.regression import LinearRegression"
      ],
      "metadata": {
        "id": "reGuvoX0Vh7e"
      },
      "execution_count": 33,
      "outputs": []
    },
    {
      "cell_type": "code",
      "source": [
        "dfT3 = spark.read.csv('ITI_data.csv', inferSchema=True, header = True)\n",
        "dfT3.printSchema()"
      ],
      "metadata": {
        "id": "RBZTD9RrV_uN",
        "outputId": "4a578b16-38b1-4471-f3e9-f544848e83b8",
        "colab": {
          "base_uri": "https://localhost:8080/"
        }
      },
      "execution_count": 34,
      "outputs": [
        {
          "output_type": "stream",
          "name": "stdout",
          "text": [
            "root\n",
            " |-- Ship_name: string (nullable = true)\n",
            " |-- Cruise_line: string (nullable = true)\n",
            " |-- Age: integer (nullable = true)\n",
            " |-- Tonnage: double (nullable = true)\n",
            " |-- passengers: double (nullable = true)\n",
            " |-- length: double (nullable = true)\n",
            " |-- cabins: double (nullable = true)\n",
            " |-- passenger_density: double (nullable = true)\n",
            " |-- crew: double (nullable = true)\n",
            "\n"
          ]
        }
      ]
    },
    {
      "cell_type": "code",
      "source": [
        "train_df, test_df = dfT3.randomSplit([.8,.2],seed=42)\n",
        "print(f\"There are {train_df.count()} rows in the training set, and {test_df.count()} in the test set\")"
      ],
      "metadata": {
        "id": "-8JkmvcJW_1k",
        "outputId": "ab73bbe8-dd31-4ab8-c404-b43d6d481130",
        "colab": {
          "base_uri": "https://localhost:8080/"
        }
      },
      "execution_count": 35,
      "outputs": [
        {
          "output_type": "stream",
          "name": "stdout",
          "text": [
            "There are 133 rows in the training set, and 25 in the test set\n"
          ]
        }
      ]
    },
    {
      "cell_type": "code",
      "source": [
        "train_df.write.parquet(\"train.parquet\",  mode = 'overwrite')\n",
        "test_df.write.parquet(\"test.parquet\",  mode = 'overwrite')"
      ],
      "metadata": {
        "id": "c0JyOtbbjevP"
      },
      "execution_count": 36,
      "outputs": []
    },
    {
      "cell_type": "code",
      "source": [
        "train_df = spark.read.parquet('train.parquet')\n",
        "test_df = spark.read.parquet('test.parquet')"
      ],
      "metadata": {
        "id": "RCK82z55jjsN"
      },
      "execution_count": 37,
      "outputs": []
    },
    {
      "cell_type": "code",
      "source": [
        "train_df.printSchema()"
      ],
      "metadata": {
        "id": "sAz5FKs3hsW6",
        "outputId": "623ccbad-0b4b-4bea-8730-026bca1bcfd2",
        "colab": {
          "base_uri": "https://localhost:8080/"
        }
      },
      "execution_count": 38,
      "outputs": [
        {
          "output_type": "stream",
          "name": "stdout",
          "text": [
            "root\n",
            " |-- Ship_name: string (nullable = true)\n",
            " |-- Cruise_line: string (nullable = true)\n",
            " |-- Age: integer (nullable = true)\n",
            " |-- Tonnage: double (nullable = true)\n",
            " |-- passengers: double (nullable = true)\n",
            " |-- length: double (nullable = true)\n",
            " |-- cabins: double (nullable = true)\n",
            " |-- passenger_density: double (nullable = true)\n",
            " |-- crew: double (nullable = true)\n",
            "\n"
          ]
        }
      ]
    },
    {
      "cell_type": "code",
      "source": [
        "test_df.printSchema()"
      ],
      "metadata": {
        "id": "FM06wtmlhopk",
        "outputId": "36bb9729-77c5-4622-f06b-7afe71ad5542",
        "colab": {
          "base_uri": "https://localhost:8080/"
        }
      },
      "execution_count": 39,
      "outputs": [
        {
          "output_type": "stream",
          "name": "stdout",
          "text": [
            "root\n",
            " |-- Ship_name: string (nullable = true)\n",
            " |-- Cruise_line: string (nullable = true)\n",
            " |-- Age: integer (nullable = true)\n",
            " |-- Tonnage: double (nullable = true)\n",
            " |-- passengers: double (nullable = true)\n",
            " |-- length: double (nullable = true)\n",
            " |-- cabins: double (nullable = true)\n",
            " |-- passenger_density: double (nullable = true)\n",
            " |-- crew: double (nullable = true)\n",
            "\n"
          ]
        }
      ]
    },
    {
      "cell_type": "code",
      "metadata": {
        "id": "A9CZzWWqZnOC"
      },
      "source": [
        "categorical_cols  = [field for (field,dataType) in dfT3.dtypes\n",
        "              if ((dataType=='string'))]\n",
        "numerical_cols =[field for (field,dataType) in dfT3.dtypes\n",
        "              if ((dataType!='string')& (field not in ['crew']))]"
      ],
      "execution_count": 40,
      "outputs": []
    },
    {
      "cell_type": "markdown",
      "metadata": {
        "id": "1QTNLhZSlf9_"
      },
      "source": [
        "### OneHotEncoder \n"
      ]
    },
    {
      "cell_type": "code",
      "metadata": {
        "collapsed": true,
        "id": "pE4ohNjVZnOG"
      },
      "source": [
        "index_output_cols = [x + \"_Index\" for x in categorical_cols]\n",
        "string_indexer = ml.StringIndexer(inputCols=categorical_cols, outputCols=index_output_cols)"
      ],
      "execution_count": 41,
      "outputs": []
    },
    {
      "cell_type": "code",
      "metadata": {
        "id": "-ZZxxxKLZnOF"
      },
      "source": [
        "ohe_output_cols = [x + \"_OHE\" for x in categorical_cols]\n",
        "one_encoder = ml.OneHotEncoder(inputCols=index_output_cols, outputCols=ohe_output_cols)"
      ],
      "execution_count": 42,
      "outputs": []
    },
    {
      "cell_type": "code",
      "source": [
        "mixed_features = ohe_output_cols + numerical_cols\n",
        "mixed_features"
      ],
      "metadata": {
        "id": "kLesjEAGWpAk",
        "outputId": "126d3e82-d65b-46c2-d64e-c6ab28634c63",
        "colab": {
          "base_uri": "https://localhost:8080/"
        }
      },
      "execution_count": 43,
      "outputs": [
        {
          "output_type": "execute_result",
          "data": {
            "text/plain": [
              "['Ship_name_OHE',\n",
              " 'Cruise_line_OHE',\n",
              " 'Age',\n",
              " 'Tonnage',\n",
              " 'passengers',\n",
              " 'length',\n",
              " 'cabins',\n",
              " 'passenger_density']"
            ]
          },
          "metadata": {},
          "execution_count": 43
        }
      ]
    },
    {
      "cell_type": "markdown",
      "metadata": {
        "id": "RNCxWem0l662"
      },
      "source": [
        "###Use VectorAssembler to merge all columns into one column:"
      ]
    },
    {
      "cell_type": "code",
      "source": [
        "vector_assembler = ml.VectorAssembler(inputCols=mixed_features, outputCol='features')"
      ],
      "metadata": {
        "id": "sQIf4qeYVcX8"
      },
      "execution_count": 44,
      "outputs": []
    },
    {
      "cell_type": "markdown",
      "metadata": {
        "id": "Rbf56f6AmUUl"
      },
      "source": [
        "### Create a Linear Regression Model "
      ]
    },
    {
      "cell_type": "code",
      "metadata": {
        "id": "nvqnqTkunkNx"
      },
      "source": [
        "lr = LinearRegression(labelCol='crew')"
      ],
      "execution_count": 45,
      "outputs": []
    },
    {
      "cell_type": "markdown",
      "metadata": {
        "id": "dVdxQTcSC6Cz"
      },
      "source": [
        "### Creating a Pipeline"
      ]
    },
    {
      "cell_type": "code",
      "metadata": {
        "id": "UqM9HxkNIHwE",
        "outputId": "8e41f591-e672-459d-854a-94f5268a4374",
        "colab": {
          "base_uri": "https://localhost:8080/"
        }
      },
      "source": [
        "pipeline = Pipeline(stages=[string_indexer, one_encoder, vector_assembler, lr])\n",
        "model=pipeline.fit(train_df)\n",
        "model"
      ],
      "execution_count": 46,
      "outputs": [
        {
          "output_type": "execute_result",
          "data": {
            "text/plain": [
              "PipelineModel_65fc0e5a3366"
            ]
          },
          "metadata": {},
          "execution_count": 46
        }
      ]
    },
    {
      "cell_type": "code",
      "source": [
        "model.transform(train_df).show()"
      ],
      "metadata": {
        "id": "icgKFAL0hM5K",
        "outputId": "d7971ecb-c4ee-429a-b4e4-12d939820138",
        "colab": {
          "base_uri": "https://localhost:8080/"
        }
      },
      "execution_count": 47,
      "outputs": [
        {
          "output_type": "stream",
          "name": "stdout",
          "text": [
            "+-------------+---------------+---+-----------------+----------+------+------+-----------------+-----+---------------+-----------------+----------------+---------------+--------------------+------------------+\n",
            "|    Ship_name|    Cruise_line|Age|          Tonnage|passengers|length|cabins|passenger_density| crew|Ship_name_Index|Cruise_line_Index|   Ship_name_OHE|Cruise_line_OHE|            features|        prediction|\n",
            "+-------------+---------------+---+-----------------+----------+------+------+-----------------+-----+---------------+-----------------+----------------+---------------+--------------------+------------------+\n",
            "|    Adventure|Royal_Caribbean| 12|            138.0|     31.14|  10.2| 15.57|            44.32|11.85|           12.0|              1.0|(117,[12],[1.0])| (18,[1],[1.0])|(141,[12,118,135,...| 11.85577295274202|\n",
            "|      Allegra|          Costa| 21|            28.43|      8.08|  6.16|   4.1|            35.19|  4.0|           13.0|              5.0|(117,[13],[1.0])| (18,[5],[1.0])|(141,[13,122,135,...| 3.996042271273831|\n",
            "|      Arcadia|            P&O|  9|             85.0|     19.68|  9.35|  9.84|            43.19| 8.69|           14.0|             10.0|(117,[14],[1.0])|(18,[10],[1.0])|(141,[14,127,135,...| 8.688911258337228|\n",
            "|        Aries|           Star| 22|            3.341|      0.66|   2.8|  0.33|            50.62| 0.59|           15.0|              9.0|(117,[15],[1.0])| (18,[9],[1.0])|(141,[15,126,135,...|0.5873179942160374|\n",
            "|      Armonia|            MSC| 12|             58.6|     15.66|  8.24|  7.83|            37.42|  7.0|           16.0|              7.0|(117,[16],[1.0])| (18,[7],[1.0])|(141,[16,124,135,...| 7.002579840085187|\n",
            "|    Atlantica|          Costa| 13|           85.619|     21.14|  9.57| 10.56|             40.5|  9.2|           17.0|              5.0|(117,[17],[1.0])| (18,[5],[1.0])|(141,[17,122,135,...| 9.199998139053857|\n",
            "|   Brilliance|Royal_Caribbean| 11|            90.09|     25.01|  9.62|  10.5|            36.02| 8.48|           18.0|              1.0|(117,[18],[1.0])| (18,[1],[1.0])|(141,[18,118,135,...| 8.483908601653166|\n",
            "|    Caribbean|       Princess|  9|            116.0|      26.0|  9.51|  13.0|            44.62| 11.0|           19.0|              2.0|(117,[19],[1.0])| (18,[2],[1.0])|(141,[19,119,135,...|11.001236793534215|\n",
            "|  Celebration|       Carnival| 26|           47.262|     14.86|  7.22|  7.43|             31.8|  6.7|           20.0|              0.0|(117,[20],[1.0])| (18,[0],[1.0])|(141,[20,117,135,...|  6.69634993389739|\n",
            "|      Century|      Celebrity| 18|70.60600000000001|      17.7|  8.15|  8.75|            39.89| 8.58|           21.0|              6.0|(117,[21],[1.0])| (18,[6],[1.0])|(141,[21,123,135,...|  8.57564043986692|\n",
            "|        Cloud|      Silversea| 19|             16.8|      2.96|  5.14|  1.48|            56.76|  2.1|           22.0|             16.0|(117,[22],[1.0])|(18,[16],[1.0])|(141,[22,133,135,...|2.0899112859679922|\n",
            "|     Conquest|       Carnival| 11|            110.0|     29.74|  9.53| 14.88|            36.99| 19.1|           23.0|              0.0|(117,[23],[1.0])| (18,[0],[1.0])|(141,[23,117,135,...|19.100220291473214|\n",
            "|Constellation|      Celebrity| 11|             91.0|     20.32|  9.65|  9.75|            44.78| 9.99|           24.0|              6.0|(117,[24],[1.0])| (18,[6],[1.0])|(141,[24,123,135,...| 9.986906785320805|\n",
            "|        Coral|       Princess| 11|91.62700000000001|     19.74|  9.64|  9.87|            46.42|  9.0|           25.0|              2.0|(117,[25],[1.0])| (18,[2],[1.0])|(141,[25,119,135,...| 8.999962268320166|\n",
            "|        Crown|      Norwegian| 25|            34.25|     10.52|  6.15|  5.26|            32.56|  4.7|           26.0|              4.0|(117,[26],[1.0])| (18,[4],[1.0])|(141,[26,121,135,...| 4.696304936261554|\n",
            "|         Dawn|      Norwegian| 11|             90.0|      22.4|  9.65|  11.2|            40.18| 11.0|            2.0|              4.0| (117,[2],[1.0])| (18,[4],[1.0])|(141,[2,121,135,1...| 10.87427813900163|\n",
            "|         Dawn|       Princess| 16|           77.499|      19.5|  8.56|  10.5|            39.74|  9.0|            2.0|              2.0| (117,[2],[1.0])| (18,[2],[1.0])|(141,[2,119,135,1...| 9.125135049205715|\n",
            "|      Destiny|       Carnival| 17|          101.353|     26.42|  8.92| 13.21|            38.36| 10.0|           27.0|              0.0|(117,[27],[1.0])| (18,[0],[1.0])|(141,[27,117,135,...| 9.999512956112275|\n",
            "|        Dream|      Norwegian| 21|            50.76|     17.48|  7.54|  8.74|            29.04| 6.14|           28.0|              4.0|(117,[28],[1.0])| (18,[4],[1.0])|(141,[28,121,135,...| 6.138067054493802|\n",
            "|      Ecstasy|       Carnival| 22|           70.367|     20.52|  8.55|  10.2|            34.29|  9.2|           29.0|              0.0|(117,[29],[1.0])| (18,[0],[1.0])|(141,[29,117,135,...| 9.197977337347302|\n",
            "+-------------+---------------+---+-----------------+----------+------+------+-----------------+-----+---------------+-----------------+----------------+---------------+--------------------+------------------+\n",
            "only showing top 20 rows\n",
            "\n"
          ]
        }
      ]
    },
    {
      "cell_type": "code",
      "source": [
        "pred = model.transform(test_df)"
      ],
      "metadata": {
        "id": "Wz81fuZSXcfa"
      },
      "execution_count": 53,
      "outputs": []
    },
    {
      "cell_type": "code",
      "source": [
        "pred.count()"
      ],
      "metadata": {
        "id": "NxyanoBQcge0",
        "outputId": "0af5e570-9a7d-417c-e4f0-590969ac69fd",
        "colab": {
          "base_uri": "https://localhost:8080/"
        }
      },
      "execution_count": 54,
      "outputs": [
        {
          "output_type": "execute_result",
          "data": {
            "text/plain": [
              "133"
            ]
          },
          "metadata": {},
          "execution_count": 54
        }
      ]
    },
    {
      "cell_type": "code",
      "source": [
        "from pyspark.ml.evaluation import RegressionEvaluator\n",
        "lr_evaluator = RegressionEvaluator(predictionCol=\"prediction\", \\\n",
        "                 labelCol=\"crew\",metricName=\"r2\")\n",
        "print(\"R Squared (R2) on test data = %g\" % lr_evaluator.evaluate(pred))"
      ],
      "metadata": {
        "id": "Y6xCzYqUX4yR",
        "outputId": "8a4834d6-2fd8-4ae9-87ee-36e26acb2dd1",
        "colab": {
          "base_uri": "https://localhost:8080/"
        }
      },
      "execution_count": 56,
      "outputs": [
        {
          "output_type": "stream",
          "name": "stdout",
          "text": [
            "R Squared (R2) on test data = 72.34%\n"
          ]
        }
      ]
    }
  ]
}